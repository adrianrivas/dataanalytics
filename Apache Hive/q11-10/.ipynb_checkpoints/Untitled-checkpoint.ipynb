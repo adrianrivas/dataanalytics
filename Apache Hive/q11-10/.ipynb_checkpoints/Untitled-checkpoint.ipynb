{
 "cells": [
  {
   "cell_type": "code",
   "execution_count": 1,
   "metadata": {},
   "outputs": [
    {
     "name": "stdout",
     "output_type": "stream",
     "text": [
      "E\tb,g,f\tjjj#3,bbb#0,ddd#9,ggg#8,hhh#2\n",
      "A\ta,f,c\tccc#2,ddd#0,aaa#3,hhh#9\n",
      "B\tf,e,a,c\tddd#2,ggg#5,ccc#6,jjj#1\n",
      "A\ta,b\thhh#9,iii#5,eee#7,bbb#1\n",
      "C\tf,g,d,a\tiii#6,ddd#5,eee#4,jjj#3\n",
      "A\tc,d\tbbb#2,hhh#0,ccc#4,fff#1,aaa#7\n",
      "A\tg,d,a\taaa#5,fff#8,ddd#2,iii#0,jjj#7,ccc#1\n",
      "B\tb,a\tfff#3,hhh#1,ddd#2\n",
      "E\td,e,a,f\teee#4,ccc#5,iii#9,fff#7,ggg#6,bbb#0\n",
      "B\td,b,g,f\tbbb#7,jjj#9,fff#5,iii#4,ggg#2,eee#3\n"
     ]
    }
   ],
   "source": [
    "!head data.tsv"
   ]
  },
  {
   "cell_type": "code",
   "execution_count": 9,
   "metadata": {},
   "outputs": [
    {
     "name": "stdout",
     "output_type": "stream",
     "text": [
      "SLF4J: Class path contains multiple SLF4J bindings.\n",
      "SLF4J: Found binding in [jar:file:/usr/local/hive/lib/log4j-slf4j-impl-2.6.2.jar!/org/slf4j/impl/StaticLoggerBinder.class]\n",
      "SLF4J: Found binding in [jar:file:/usr/local/hadoop/share/hadoop/common/lib/slf4j-log4j12-1.7.10.jar!/org/slf4j/impl/StaticLoggerBinder.class]\n",
      "SLF4J: See http://www.slf4j.org/codes.html#multiple_bindings for an explanation.\n",
      "SLF4J: Actual binding is of type [org.apache.logging.slf4j.Log4jLoggerFactory]\n",
      "E\t3\t5\n",
      "A\t3\t4\n",
      "B\t4\t4\n",
      "A\t2\t4\n",
      "C\t4\t4\n",
      "A\t2\t5\n",
      "A\t3\t6\n",
      "B\t2\t3\n",
      "E\t4\t6\n",
      "B\t4\t6\n",
      "C\t4\t5\n",
      "C\t4\t3\n",
      "D\t4\t5\n",
      "E\t2\t3\n",
      "B\t2\t5\n",
      "D\t2\t4\n",
      "E\t3\t6\n",
      "D\t2\t3\n",
      "E\t4\t3\n",
      "E\t2\t3\n",
      "E\t2\t3\n",
      "E\t3\t3\n",
      "D\t3\t3\n",
      "A\t3\t5\n",
      "E\t2\t6\n",
      "E\t3\t6\n",
      "A\t3\t3\n",
      "E\t3\t5\n",
      "A\t2\t5\n",
      "C\t4\t6\n",
      "A\t2\t5\n",
      "D\t2\t6\n",
      "E\t2\t4\n",
      "B\t3\t6\n",
      "B\t3\t5\n",
      "D\t2\t3\n",
      "B\t2\t5\n",
      "C\t4\t3\n",
      "E\t2\t3\n",
      "E\t3\t3\n"
     ]
    }
   ],
   "source": [
    "!hive -S -e \"source question.hql\""
   ]
  }
 ],
 "metadata": {
  "kernelspec": {
   "display_name": "Python 3",
   "language": "python",
   "name": "python3"
  },
  "language_info": {
   "codemirror_mode": {
    "name": "ipython",
    "version": 3
   },
   "file_extension": ".py",
   "mimetype": "text/x-python",
   "name": "python",
   "nbconvert_exporter": "python",
   "pygments_lexer": "ipython3",
   "version": "3.6.9"
  }
 },
 "nbformat": 4,
 "nbformat_minor": 4
}
