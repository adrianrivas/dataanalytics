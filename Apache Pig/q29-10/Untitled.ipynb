{
 "cells": [
  {
   "cell_type": "code",
   "execution_count": 16,
   "metadata": {},
   "outputs": [
    {
     "name": "stdout",
     "output_type": "stream",
     "text": [
      "2021-05-21 03:01:52,863 [main] INFO  org.apache.hadoop.conf.Configuration.deprecation - mapred.job.tracker is deprecated. Instead, use mapreduce.jobtracker.address\n",
      "2021-05-21 03:01:54,082 [main] ERROR org.apache.pig.PigServer - exception during parsing: Error during parsing. Could not resolve concat using imports: [, java.lang., org.apache.pig.builtin., org.apache.pig.impl.builtin.]\n",
      "Failed to parse: Pig script failed to parse: <line 44, column 47> Failed to generate logical plan. Nested exception: org.apache.pig.backend.executionengine.ExecException: ERROR 1070: Could not resolve concat using imports: [, java.lang., org.apache.pig.builtin., org.apache.pig.impl.builtin.]\n",
      "\tat org.apache.pig.parser.QueryParserDriver.parse(QueryParserDriver.java:199)\n",
      "\tat org.apache.pig.PigServer$Graph.parseQuery(PigServer.java:1820)\n",
      "\tat org.apache.pig.PigServer$Graph.access$000(PigServer.java:1528)\n",
      "\tat org.apache.pig.PigServer.parseAndBuild(PigServer.java:461)\n",
      "\tat org.apache.pig.PigServer.executeBatch(PigServer.java:486)\n",
      "\tat org.apache.pig.PigServer.executeBatch(PigServer.java:472)\n",
      "\tat org.apache.pig.tools.grunt.GruntParser.executeBatch(GruntParser.java:171)\n",
      "\tat org.apache.pig.tools.grunt.GruntParser.processDump(GruntParser.java:777)\n",
      "\tat org.apache.pig.tools.pigscript.parser.PigScriptParser.parse(PigScriptParser.java:383)\n",
      "\tat org.apache.pig.tools.grunt.GruntParser.loadScript(GruntParser.java:561)\n",
      "\tat org.apache.pig.tools.grunt.GruntParser.processScript(GruntParser.java:503)\n",
      "\tat org.apache.pig.tools.pigscript.parser.PigScriptParser.Script(PigScriptParser.java:1037)\n",
      "\tat org.apache.pig.tools.pigscript.parser.PigScriptParser.parse(PigScriptParser.java:561)\n",
      "\tat org.apache.pig.tools.grunt.GruntParser.parseStopOnError(GruntParser.java:230)\n",
      "\tat org.apache.pig.tools.grunt.GruntParser.parseStopOnError(GruntParser.java:205)\n",
      "\tat org.apache.pig.tools.grunt.Grunt.exec(Grunt.java:81)\n",
      "\tat org.apache.pig.Main.run(Main.java:531)\n",
      "\tat org.apache.pig.Main.main(Main.java:175)\n",
      "\tat sun.reflect.NativeMethodAccessorImpl.invoke0(Native Method)\n",
      "\tat sun.reflect.NativeMethodAccessorImpl.invoke(NativeMethodAccessorImpl.java:62)\n",
      "\tat sun.reflect.DelegatingMethodAccessorImpl.invoke(DelegatingMethodAccessorImpl.java:43)\n",
      "\tat java.lang.reflect.Method.invoke(Method.java:498)\n",
      "\tat org.apache.hadoop.util.RunJar.run(RunJar.java:239)\n",
      "\tat org.apache.hadoop.util.RunJar.main(RunJar.java:153)\n",
      "Caused by: <line 44, column 47> Failed to generate logical plan. Nested exception: org.apache.pig.backend.executionengine.ExecException: ERROR 1070: Could not resolve concat using imports: [, java.lang., org.apache.pig.builtin., org.apache.pig.impl.builtin.]\n",
      "\tat org.apache.pig.parser.LogicalPlanBuilder.buildUDF(LogicalPlanBuilder.java:1587)\n",
      "\tat org.apache.pig.parser.LogicalPlanGenerator.func_eval(LogicalPlanGenerator.java:9403)\n",
      "\tat org.apache.pig.parser.LogicalPlanGenerator.projectable_expr(LogicalPlanGenerator.java:11082)\n",
      "\tat org.apache.pig.parser.LogicalPlanGenerator.var_expr(LogicalPlanGenerator.java:10841)\n",
      "\tat org.apache.pig.parser.LogicalPlanGenerator.expr(LogicalPlanGenerator.java:10190)\n",
      "\tat org.apache.pig.parser.LogicalPlanGenerator.flatten_generated_item(LogicalPlanGenerator.java:7519)\n",
      "\tat org.apache.pig.parser.LogicalPlanGenerator.generate_clause(LogicalPlanGenerator.java:17621)\n",
      "\tat org.apache.pig.parser.LogicalPlanGenerator.foreach_plan(LogicalPlanGenerator.java:16013)\n",
      "\tat org.apache.pig.parser.LogicalPlanGenerator.foreach_clause(LogicalPlanGenerator.java:15880)\n",
      "\tat org.apache.pig.parser.LogicalPlanGenerator.op_clause(LogicalPlanGenerator.java:1933)\n",
      "\tat org.apache.pig.parser.LogicalPlanGenerator.general_statement(LogicalPlanGenerator.java:1102)\n",
      "\tat org.apache.pig.parser.LogicalPlanGenerator.statement(LogicalPlanGenerator.java:560)\n",
      "\tat org.apache.pig.parser.LogicalPlanGenerator.query(LogicalPlanGenerator.java:421)\n",
      "\tat org.apache.pig.parser.QueryParserDriver.parse(QueryParserDriver.java:191)\n",
      "\t... 23 more\n",
      "Caused by: org.apache.pig.backend.executionengine.ExecException: ERROR 1070: Could not resolve concat using imports: [, java.lang., org.apache.pig.builtin., org.apache.pig.impl.builtin.]\n",
      "\tat org.apache.pig.impl.PigContext.resolveClassName(PigContext.java:676)\n",
      "\tat org.apache.pig.impl.PigContext.getClassForAlias(PigContext.java:797)\n",
      "\tat org.apache.pig.parser.LogicalPlanBuilder.buildUDF(LogicalPlanBuilder.java:1584)\n",
      "\t... 36 more\n",
      "2021-05-21 03:01:54,089 [main] ERROR org.apache.pig.tools.grunt.Grunt - ERROR 1070: Could not resolve concat using imports: [, java.lang., org.apache.pig.builtin., org.apache.pig.impl.builtin.]\n",
      "Details at logfile: /datalake/q29-10/pig_1621566111962.log\n"
     ]
    }
   ],
   "source": [
    "!pig -execute 'run question.pig'"
   ]
  }
 ],
 "metadata": {
  "kernelspec": {
   "display_name": "Python 3",
   "language": "python",
   "name": "python3"
  },
  "language_info": {
   "codemirror_mode": {
    "name": "ipython",
    "version": 3
   },
   "file_extension": ".py",
   "mimetype": "text/x-python",
   "name": "python",
   "nbconvert_exporter": "python",
   "pygments_lexer": "ipython3",
   "version": "3.6.9"
  }
 },
 "nbformat": 4,
 "nbformat_minor": 4
}
