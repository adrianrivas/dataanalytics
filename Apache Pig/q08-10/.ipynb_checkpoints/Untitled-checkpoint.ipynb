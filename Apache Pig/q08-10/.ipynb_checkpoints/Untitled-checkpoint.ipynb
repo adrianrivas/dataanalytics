{
 "cells": [
  {
   "cell_type": "code",
   "execution_count": 2,
   "metadata": {},
   "outputs": [
    {
     "name": "stdout",
     "output_type": "stream",
     "text": [
      "E\t{(b),(g),(f)}\t[jjj#3,bbb#0,ddd#9,ggg#8,hhh#2]\n",
      "A\t{(a),(f),(c)}\t[ccc#2,ddd#0,aaa#3,hhh#9]\n",
      "B\t{(f),(e),(a),(c)}\t[ddd#2,ggg#5,ccc#6,jjj#1]\n",
      "A\t{(a),(b)}\t[hhh#9,iii#5,eee#7,bbb#1]\n",
      "C\t{(f),(g),(d),(a)}\t[iii#6,ddd#5,eee#4,jjj#3]\n",
      "A\t{(c),(d)}\t[bbb#2,hhh#0,ccc#4,fff#1,aaa#7]\n",
      "A\t{(g),(d),(a)}\t[aaa#5,fff#8,ddd#2,iii#0,jjj#7,ccc#1]\n",
      "B\t{(b),(a)}\t[fff#3,hhh#1,ddd#2]\n",
      "E\t{(d),(e),(a),(f)}\t[eee#4,ccc#5,iii#9,fff#7,ggg#6,bbb#0]\n",
      "B\t{(d),(b),(g),(f)}\t[bbb#7,jjj#9,fff#5,iii#4,ggg#2,eee#3]\n"
     ]
    }
   ],
   "source": [
    "!head data.tsv"
   ]
  },
  {
   "cell_type": "code",
   "execution_count": 11,
   "metadata": {},
   "outputs": [
    {
     "name": "stdout",
     "output_type": "stream",
     "text": [
      "2021-05-21 03:34:15,864 [main] INFO  org.apache.hadoop.conf.Configuration.deprecation - mapred.job.tracker is deprecated. Instead, use mapreduce.jobtracker.address\n",
      "2021-05-21 03:34:17,183 [main] ERROR org.apache.pig.tools.grunt.Grunt - ERROR 1025: <line 21, column 44> Invalid field projection. Projected field [letra] does not exist in schema: group:chararray,data_modified:bag{:tuple(letra:chararray,clave:chararray)}.\n",
      "Details at logfile: /datalake/q08-10/pig_1621568054793.log\n"
     ]
    }
   ],
   "source": [
    "!pig -execute 'run question.pig'"
   ]
  }
 ],
 "metadata": {
  "kernelspec": {
   "display_name": "Python 3",
   "language": "python",
   "name": "python3"
  },
  "language_info": {
   "codemirror_mode": {
    "name": "ipython",
    "version": 3
   },
   "file_extension": ".py",
   "mimetype": "text/x-python",
   "name": "python",
   "nbconvert_exporter": "python",
   "pygments_lexer": "ipython3",
   "version": "3.6.9"
  }
 },
 "nbformat": 4,
 "nbformat_minor": 4
}
