{
 "cells": [
  {
   "cell_type": "code",
   "execution_count": 1,
   "metadata": {},
   "outputs": [
    {
     "name": "stdout",
     "output_type": "stream",
     "text": [
      "B   1999-08-28   14\n",
      "E   1999-12-06   12\n",
      "E   1993-07-21   17\n",
      "C   1991-02-12   13\n",
      "E   1995-04-25   16\n",
      "A   1992-08-22   14\n",
      "B   1999-06-11   12\n",
      "E   1993-01-27   13\n",
      "E   1999-09-10   11\n",
      "E   1990-05-03   16\n"
     ]
    }
   ],
   "source": [
    "!head data.csv"
   ]
  },
  {
   "cell_type": "code",
   "execution_count": 2,
   "metadata": {},
   "outputs": [],
   "source": [
    "!chmod +x mapper.py\n",
    "!chmod +x reducer.py"
   ]
  },
  {
   "cell_type": "code",
   "execution_count": 26,
   "metadata": {},
   "outputs": [
    {
     "name": "stdout",
     "output_type": "stream",
     "text": [
      "A\t10\n",
      "A\t11\n",
      "A\t12\n",
      "A\t12\n",
      "A\t13\n",
      "A\t13\n",
      "A\t14\n",
      "A\t14\n",
      "A\t14\n",
      "A\t16\n",
      "A\t18\n",
      "A\t18\n",
      "B\t10\n",
      "B\t12\n",
      "B\t13\n",
      "B\t13\n",
      "B\t14\n",
      "B\t14\n",
      "B\t14\n",
      "B\t14\n",
      "B\t15\n",
      "B\t17\n",
      "C\t10\n",
      "C\t10\n",
      "C\t13\n",
      "C\t15\n",
      "D\t15\n",
      "E\t10\n",
      "E\t11\n",
      "E\t12\n",
      "E\t13\n",
      "E\t14\n",
      "E\t15\n",
      "E\t16\n",
      "E\t16\n",
      "E\t16\n",
      "E\t16\n",
      "E\t17\n",
      "E\t18\n",
      "E\t18\n"
     ]
    }
   ],
   "source": [
    "!cat data.csv | python3 mapper.py | sort"
   ]
  },
  {
   "cell_type": "code",
   "execution_count": 35,
   "metadata": {},
   "outputs": [
    {
     "name": "stdout",
     "output_type": "stream",
     "text": [
      "A\t165.0\t1\t12\t13.75\n",
      "B\t136.0\t1\t10\t13.6\n",
      "C\t48.0\t1\t4\t12.0\n",
      "D\t15.0\t1\t1\t15.0\n",
      "E\t192.0\t1\t13\t14.76923076923077\n"
     ]
    }
   ],
   "source": [
    "!cat data.csv | python3 mapper.py | sort | python3 reducer.py"
   ]
  }
 ],
 "metadata": {
  "kernelspec": {
   "display_name": "Python 3",
   "language": "python",
   "name": "python3"
  },
  "language_info": {
   "codemirror_mode": {
    "name": "ipython",
    "version": 3
   },
   "file_extension": ".py",
   "mimetype": "text/x-python",
   "name": "python",
   "nbconvert_exporter": "python",
   "pygments_lexer": "ipython3",
   "version": "3.6.9"
  }
 },
 "nbformat": 4,
 "nbformat_minor": 4
}
