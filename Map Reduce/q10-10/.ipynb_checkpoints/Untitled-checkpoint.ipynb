{
 "cells": [
  {
   "cell_type": "code",
   "execution_count": 4,
   "metadata": {},
   "outputs": [
    {
     "name": "stdout",
     "output_type": "stream",
     "text": [
      "0\tC,F,A,B,D,I,H\n",
      "1\tA,H,C,I,F,D,B\n",
      "2\tB,H,I,F,G\n",
      "3\tC,B,D\n",
      "4\tD,C,I,G,H\n",
      "5\tB,D,C,H,A\n",
      "6\tH,D,C,B,G,F,D\n",
      "7\tF,A,G,C,B,D,H,I\n",
      "8\tF,A,I,B,D\n",
      "9\tF,A,B,D,C,D,G,I\n"
     ]
    }
   ],
   "source": [
    "!head data.csv"
   ]
  },
  {
   "cell_type": "code",
   "execution_count": 2,
   "metadata": {},
   "outputs": [],
   "source": [
    "!chmod +x mapper.py\n",
    "!chmod +x reducer.py"
   ]
  },
  {
   "cell_type": "code",
   "execution_count": 162,
   "metadata": {},
   "outputs": [
    {
     "name": "stdout",
     "output_type": "stream",
     "text": [
      "0,C,F,A,B,D,I,H\n",
      "1,A,H,C,I,F,D,B\n",
      "10,D,B,A,C,H\n",
      "11,G,D,B,H,I,C,F\n",
      "12,D,D,C,F,B,A,H,G\n",
      "13,F,A,D\n",
      "14,D,A,C,G\n",
      "15,H,A,F,D,B,C,G,I\n",
      "16,A,I,B,D\n",
      "17,C,B,G,A,D,H,F\n",
      "18,I,B,A,H,D,F\n",
      "19,B,D,F,D,I\n",
      "2,B,H,I,F,G\n",
      "20,C,B,H,F,I,G,D,D\n",
      "21,F,A,B,C,G,D\n",
      "22,I,G,F,C,H,B\n",
      "23,H,F,C,B,D,D,A\n",
      "24,F,D,G,A,H\n",
      "25,G,H,B,C,A,F,I\n",
      "26,G,F,B,A,H,D,D,I\n",
      "27,B,A,H,I,D,G,F\n",
      "28,A,H,D,F,C\n",
      "29,C,D,A,F,G,B,H,D\n",
      "3,C,B,D\n",
      "4,D,C,I,G,H\n",
      "5,B,D,C,H,A\n",
      "6,H,D,C,B,G,F,D\n",
      "7,F,A,G,C,B,D,H,I\n",
      "8,F,A,I,B,D\n",
      "9,F,A,B,D,C,D,G,I\n"
     ]
    }
   ],
   "source": [
    "!cat data.csv | python3 mapper.py | sort"
   ]
  },
  {
   "cell_type": "code",
   "execution_count": 175,
   "metadata": {},
   "outputs": [
    {
     "name": "stdout",
     "output_type": "stream",
     "text": [
      "A\t0,1,5,7,8,9,10,12,13,14,15,16,17,18,21,23,24,25,26,27,28,29\n",
      "B\t0,1,2,3,5,6,7,8,9,10,11,12,15,16,17,18,19,20,21,22,23,25,26,27,29\n",
      "C\t0,1,3,4,5,6,7,9,10,11,12,14,15,17,20,21,22,23,25,28,29\n",
      "D\t0,1,3,4,5,6,6,7,8,9,9,10,11,12,12,13,14,15,16,17,18,19,19,20,20,21,23,23,24,26,26,27,28,29,29\n",
      "F\t0,1,2,6,7,8,9,11,12,13,15,17,18,19,20,21,22,23,24,25,26,27,28,29\n",
      "G\t2,4,6,7,9,11,12,14,15,17,20,21,22,24,25,26,27,29\n",
      "H\t0,1,2,4,5,6,7,10,11,12,15,17,18,20,22,23,24,25,26,27,28,29\n",
      "I\t0,1,2,4,7,8,9,11,15,16,18,19,20,22,25,26,27\n"
     ]
    }
   ],
   "source": [
    "!cat data.csv | python3 mapper.py | sort | python3 reducer.py"
   ]
  },
  {
   "cell_type": "code",
   "execution_count": 176,
   "metadata": {},
   "outputs": [],
   "source": [
    "!python3 grader.py"
   ]
  }
 ],
 "metadata": {
  "kernelspec": {
   "display_name": "Python 3",
   "language": "python",
   "name": "python3"
  },
  "language_info": {
   "codemirror_mode": {
    "name": "ipython",
    "version": 3
   },
   "file_extension": ".py",
   "mimetype": "text/x-python",
   "name": "python",
   "nbconvert_exporter": "python",
   "pygments_lexer": "ipython3",
   "version": "3.6.9"
  }
 },
 "nbformat": 4,
 "nbformat_minor": 4
}
