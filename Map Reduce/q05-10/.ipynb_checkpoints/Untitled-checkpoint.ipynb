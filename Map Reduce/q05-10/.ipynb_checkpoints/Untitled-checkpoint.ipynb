{
 "cells": [
  {
   "cell_type": "code",
   "execution_count": 1,
   "metadata": {},
   "outputs": [
    {
     "name": "stdout",
     "output_type": "stream",
     "text": [
      "B   1999-08-28   14\n",
      "E   1999-12-06   12\n",
      "E   1993-07-21   17\n",
      "C   1991-02-12   13\n",
      "E   1995-04-25   16\n",
      "A   1992-08-22   14\n",
      "B   1999-06-11   12\n",
      "E   1993-01-27   13\n",
      "E   1999-09-10   11\n",
      "E   1990-05-03   16\n"
     ]
    }
   ],
   "source": [
    "!head data.csv"
   ]
  },
  {
   "cell_type": "code",
   "execution_count": 2,
   "metadata": {},
   "outputs": [
    {
     "name": "stdout",
     "output_type": "stream",
     "text": [
      "08\t1\n",
      "12\t1\n",
      "07\t1\n",
      "02\t1\n",
      "04\t1\n",
      "08\t1\n",
      "06\t1\n",
      "01\t1\n",
      "09\t1\n",
      "05\t1\n",
      "02\t1\n",
      "04\t1\n",
      "10\t1\n",
      "02\t1\n",
      "09\t1\n",
      "08\t1\n",
      "12\t1\n",
      "08\t1\n",
      "11\t1\n",
      "04\t1\n",
      "12\t1\n",
      "01\t1\n",
      "09\t1\n",
      "03\t1\n",
      "10\t1\n",
      "08\t1\n",
      "01\t1\n",
      "02\t1\n",
      "09\t1\n",
      "05\t1\n",
      "09\t1\n",
      "02\t1\n",
      "01\t1\n",
      "07\t1\n",
      "09\t1\n",
      "07\t1\n",
      "10\t1\n",
      "09\t1\n",
      "10\t1\n",
      "10\t1\n"
     ]
    }
   ],
   "source": [
    "!cat data.csv | python3 mapper.py"
   ]
  },
  {
   "cell_type": "code",
   "execution_count": 4,
   "metadata": {},
   "outputs": [
    {
     "name": "stdout",
     "output_type": "stream",
     "text": [
      "01\t4\n",
      "02\t5\n",
      "03\t1\n",
      "04\t3\n",
      "05\t2\n",
      "06\t1\n",
      "07\t3\n",
      "08\t5\n",
      "09\t7\n",
      "10\t5\n",
      "11\t1\n",
      "12\t3\n"
     ]
    }
   ],
   "source": [
    "!cat data.csv | python3 mapper.py | sort | python3 reducer.py"
   ]
  }
 ],
 "metadata": {
  "kernelspec": {
   "display_name": "Python 3",
   "language": "python",
   "name": "python3"
  },
  "language_info": {
   "codemirror_mode": {
    "name": "ipython",
    "version": 3
   },
   "file_extension": ".py",
   "mimetype": "text/x-python",
   "name": "python",
   "nbconvert_exporter": "python",
   "pygments_lexer": "ipython3",
   "version": "3.6.9"
  }
 },
 "nbformat": 4,
 "nbformat_minor": 4
}
